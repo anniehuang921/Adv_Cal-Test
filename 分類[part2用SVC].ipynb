{
 "metadata": {
  "name": "",
  "signature": "sha256:8ff8e7418fa5b5816ad606012333f64205f73699a9b19f45d6c7cd61588cac33"
 },
 "nbformat": 3,
 "nbformat_minor": 0,
 "worksheets": [
  {
   "cells": [
    {
     "cell_type": "code",
     "collapsed": false,
     "input": [
      "%pylab inline\n",
      "import pandas as pd\n",
      "import numpy as np"
     ],
     "language": "python",
     "metadata": {},
     "outputs": [
      {
       "output_type": "stream",
       "stream": "stdout",
       "text": [
        "Populating the interactive namespace from numpy and matplotlib\n"
       ]
      }
     ],
     "prompt_number": 1
    },
    {
     "cell_type": "code",
     "collapsed": false,
     "input": [
      "adv_data=pd.read_excel('adv_data.xlsx')\n",
      "adv_data.head()"
     ],
     "language": "python",
     "metadata": {},
     "outputs": [
      {
       "html": [
        "<div style=\"max-height:1000px;max-width:1500px;overflow:auto;\">\n",
        "<table border=\"1\" class=\"dataframe\">\n",
        "  <thead>\n",
        "    <tr style=\"text-align: right;\">\n",
        "      <th></th>\n",
        "      <th>\u7cfb\u7d1a</th>\n",
        "      <th>\u5b78\u865f</th>\n",
        "      <th>\u59d3\u540d</th>\n",
        "      <th>9/24</th>\n",
        "      <th>10/01</th>\n",
        "      <th>10/08</th>\n",
        "      <th>10/15</th>\n",
        "      <th>10/22</th>\n",
        "      <th>10/29</th>\n",
        "      <th>11/26</th>\n",
        "      <th>...</th>\n",
        "      <th>\u671f\u4e2d2</th>\n",
        "      <th>\u671f\u4e2d1</th>\n",
        "      <th>\u671f\u4e2d\u7e3d\u5206</th>\n",
        "      <th>\u671f\u672b</th>\n",
        "      <th>\u65b9\u6848\u4e00</th>\n",
        "      <th>\u65b9\u6848\u4e8c</th>\n",
        "      <th>\u7e3d\u5206\u8a66\u7b97</th>\n",
        "      <th>\u6700\u5f8c\u6210\u7e3e</th>\n",
        "      <th>\u904e</th>\n",
        "      <th>\u6578</th>\n",
        "    </tr>\n",
        "  </thead>\n",
        "  <tbody>\n",
        "    <tr>\n",
        "      <th>\u5e8f\u865f</th>\n",
        "      <td>  NaN</td>\n",
        "      <td>       NaN</td>\n",
        "      <td> NaN</td>\n",
        "      <td>NaN</td>\n",
        "      <td>NaN</td>\n",
        "      <td>NaN</td>\n",
        "      <td>NaN</td>\n",
        "      <td>NaN</td>\n",
        "      <td>NaN</td>\n",
        "      <td>NaN</td>\n",
        "      <td>...</td>\n",
        "      <td>NaN</td>\n",
        "      <td>NaN</td>\n",
        "      <td>NaN</td>\n",
        "      <td>NaN</td>\n",
        "      <td>    NaN</td>\n",
        "      <td>  NaN</td>\n",
        "      <td>    NaN</td>\n",
        "      <td>    NaN</td>\n",
        "      <td> 0</td>\n",
        "      <td> 0</td>\n",
        "    </tr>\n",
        "    <tr>\n",
        "      <th>1</th>\n",
        "      <td> \u4e2d\u6587\u4e00\u4e59</td>\n",
        "      <td> 103101086</td>\n",
        "      <td> \u67f4\u8c9e\u5168</td>\n",
        "      <td>  5</td>\n",
        "      <td>  0</td>\n",
        "      <td>  0</td>\n",
        "      <td>  0</td>\n",
        "      <td>  0</td>\n",
        "      <td>  0</td>\n",
        "      <td>  0</td>\n",
        "      <td>...</td>\n",
        "      <td>  0</td>\n",
        "      <td> 10</td>\n",
        "      <td> 10</td>\n",
        "      <td>  0</td>\n",
        "      <td>  7.125</td>\n",
        "      <td>  4.0</td>\n",
        "      <td>  7.125</td>\n",
        "      <td> 27.125</td>\n",
        "      <td> 0</td>\n",
        "      <td> 0</td>\n",
        "    </tr>\n",
        "    <tr>\n",
        "      <th>2</th>\n",
        "      <td> \u8ca1\u653f\u4e09\u7532</td>\n",
        "      <td> 101205089</td>\n",
        "      <td> \u8521\u5343\u821c</td>\n",
        "      <td> 20</td>\n",
        "      <td>  3</td>\n",
        "      <td> 20</td>\n",
        "      <td>  5</td>\n",
        "      <td> 15</td>\n",
        "      <td> 10</td>\n",
        "      <td>  0</td>\n",
        "      <td>...</td>\n",
        "      <td> 15</td>\n",
        "      <td> 34</td>\n",
        "      <td> 49</td>\n",
        "      <td> 33</td>\n",
        "      <td> 51.200</td>\n",
        "      <td> 39.4</td>\n",
        "      <td> 51.200</td>\n",
        "      <td> 71.200</td>\n",
        "      <td> 1</td>\n",
        "      <td> 1</td>\n",
        "    </tr>\n",
        "    <tr>\n",
        "      <th>3</th>\n",
        "      <td> \u7d93\u6fdf\u56db\u7532</td>\n",
        "      <td> 100208047</td>\n",
        "      <td> \u9ec3\u67cf\u5b5d</td>\n",
        "      <td> 10</td>\n",
        "      <td>  0</td>\n",
        "      <td>  0</td>\n",
        "      <td>  0</td>\n",
        "      <td>  0</td>\n",
        "      <td>  0</td>\n",
        "      <td>  0</td>\n",
        "      <td>...</td>\n",
        "      <td>  0</td>\n",
        "      <td>  5</td>\n",
        "      <td>  5</td>\n",
        "      <td>  0</td>\n",
        "      <td>  7.750</td>\n",
        "      <td>  2.0</td>\n",
        "      <td>  7.750</td>\n",
        "      <td> 27.750</td>\n",
        "      <td> 0</td>\n",
        "      <td> 0</td>\n",
        "    </tr>\n",
        "    <tr>\n",
        "      <th>4</th>\n",
        "      <td>  \u61c9\u6578\u4e00</td>\n",
        "      <td> 103701006</td>\n",
        "      <td> \u66b4\u7407\u5b5d</td>\n",
        "      <td> 10</td>\n",
        "      <td>  0</td>\n",
        "      <td> 13</td>\n",
        "      <td>  0</td>\n",
        "      <td> 15</td>\n",
        "      <td>  0</td>\n",
        "      <td>  3</td>\n",
        "      <td>...</td>\n",
        "      <td>  0</td>\n",
        "      <td> 67</td>\n",
        "      <td> 67</td>\n",
        "      <td> 22</td>\n",
        "      <td> 50.350</td>\n",
        "      <td> 40.0</td>\n",
        "      <td> 50.350</td>\n",
        "      <td> 70.350</td>\n",
        "      <td> 1</td>\n",
        "      <td> 1</td>\n",
        "    </tr>\n",
        "  </tbody>\n",
        "</table>\n",
        "<p>5 rows \u00d7 29 columns</p>\n",
        "</div>"
       ],
       "metadata": {},
       "output_type": "pyout",
       "prompt_number": 4,
       "text": [
        "      \u7cfb\u7d1a         \u5b78\u865f   \u59d3\u540d  9/24  10/01  10/08  10/15  10/22  10/29  11/26 ...  \\\n",
        "\u5e8f\u865f   NaN        NaN  NaN   NaN    NaN    NaN    NaN    NaN    NaN    NaN ...   \n",
        "1   \u4e2d\u6587\u4e00\u4e59  103101086  \u67f4\u8c9e\u5168     5      0      0      0      0      0      0 ...   \n",
        "2   \u8ca1\u653f\u4e09\u7532  101205089  \u8521\u5343\u821c    20      3     20      5     15     10      0 ...   \n",
        "3   \u7d93\u6fdf\u56db\u7532  100208047  \u9ec3\u67cf\u5b5d    10      0      0      0      0      0      0 ...   \n",
        "4    \u61c9\u6578\u4e00  103701006  \u66b4\u7407\u5b5d    10      0     13      0     15      0      3 ...   \n",
        "\n",
        "    \u671f\u4e2d2  \u671f\u4e2d1  \u671f\u4e2d\u7e3d\u5206  \u671f\u672b     \u65b9\u6848\u4e00   \u65b9\u6848\u4e8c    \u7e3d\u5206\u8a66\u7b97    \u6700\u5f8c\u6210\u7e3e  \u904e  \u6578  \n",
        "\u5e8f\u865f  NaN  NaN   NaN NaN     NaN   NaN     NaN     NaN  0  0  \n",
        "1     0   10    10   0   7.125   4.0   7.125  27.125  0  0  \n",
        "2    15   34    49  33  51.200  39.4  51.200  71.200  1  1  \n",
        "3     0    5     5   0   7.750   2.0   7.750  27.750  0  0  \n",
        "4     0   67    67  22  50.350  40.0  50.350  70.350  1  1  \n",
        "\n",
        "[5 rows x 29 columns]"
       ]
      }
     ],
     "prompt_number": 4
    },
    {
     "cell_type": "markdown",
     "metadata": {},
     "source": [
      "#\u6293\u524d\u4e09\u5341\u7b46"
     ]
    },
    {
     "cell_type": "code",
     "collapsed": false,
     "input": [
      "adv_data=adv_data[1:]"
     ],
     "language": "python",
     "metadata": {},
     "outputs": [],
     "prompt_number": 20
    },
    {
     "cell_type": "code",
     "collapsed": false,
     "input": [
      "X = np.array([[adv_data[u'\u5e73\u6642'][i],adv_data[u'\u671f\u672b'][i]] for i in range(30)])"
     ],
     "language": "python",
     "metadata": {},
     "outputs": [],
     "prompt_number": 21
    },
    {
     "cell_type": "code",
     "collapsed": false,
     "input": [
      "y = np.array([adv_data[u'\u904e'][i] for i in range(30)])"
     ],
     "language": "python",
     "metadata": {},
     "outputs": [],
     "prompt_number": 22
    },
    {
     "cell_type": "code",
     "collapsed": false,
     "input": [
      "from sklearn.svm import SVC"
     ],
     "language": "python",
     "metadata": {},
     "outputs": [],
     "prompt_number": 23
    },
    {
     "cell_type": "code",
     "collapsed": false,
     "input": [
      "clf = SVC()"
     ],
     "language": "python",
     "metadata": {},
     "outputs": [],
     "prompt_number": 24
    },
    {
     "cell_type": "code",
     "collapsed": false,
     "input": [
      "clf.fit(X, y) "
     ],
     "language": "python",
     "metadata": {},
     "outputs": [
      {
       "metadata": {},
       "output_type": "pyout",
       "prompt_number": 25,
       "text": [
        "SVC(C=1.0, cache_size=200, class_weight=None, coef0=0.0, degree=3, gamma=0.0,\n",
        "  kernel='rbf', max_iter=-1, probability=False, random_state=None,\n",
        "  shrinking=True, tol=0.001, verbose=False)"
       ]
      }
     ],
     "prompt_number": 25
    },
    {
     "cell_type": "code",
     "collapsed": false,
     "input": [
      "scatter(X[:,0], X[:,1],s=50,c=y)"
     ],
     "language": "python",
     "metadata": {},
     "outputs": [
      {
       "metadata": {},
       "output_type": "pyout",
       "prompt_number": 26,
       "text": [
        "<matplotlib.collections.PathCollection at 0x109563710>"
       ]
      },
      {
       "metadata": {},
       "output_type": "display_data",
       "png": "[encoded data removed]",
       "text": [
        "<matplotlib.figure.Figure at 0x1094b31d0>"
       ]
      }
     ],
     "prompt_number": 26
    },
    {
     "cell_type": "markdown",
     "metadata": {},
     "source": [
      "##<b style=\"color:##0000FF\"> \u8a66\u8a66\u770b\u51c6\u4e0d\u51c6</b>\n"
     ]
    },
    {
     "cell_type": "code",
     "collapsed": false,
     "input": [
      "adv_data=adv_data.replace({nan:0})"
     ],
     "language": "python",
     "metadata": {},
     "outputs": [],
     "prompt_number": 41
    },
    {
     "cell_type": "code",
     "collapsed": false,
     "input": [
      "X1=np.array([[adv_data[u'\u5e73\u6642'][i],adv_data[u'\u671f\u672b'][i]] for i in range(30,len(adv_data))])"
     ],
     "language": "python",
     "metadata": {},
     "outputs": [],
     "prompt_number": 42
    },
    {
     "cell_type": "code",
     "collapsed": false,
     "input": [
      "y1 = np.array([adv_data[u'\u904e'][i] for i in range(30,len(adv_data))])"
     ],
     "language": "python",
     "metadata": {},
     "outputs": [],
     "prompt_number": 43
    },
    {
     "cell_type": "markdown",
     "metadata": {},
     "source": [
      "##\u5be6\u969b\u7684"
     ]
    },
    {
     "cell_type": "code",
     "collapsed": false,
     "input": [
      "scatter(X1[:,0], X1[:,1],s=50,c=y1)"
     ],
     "language": "python",
     "metadata": {},
     "outputs": [
      {
       "metadata": {},
       "output_type": "pyout",
       "prompt_number": 44,
       "text": [
        "<matplotlib.collections.PathCollection at 0x109b02510>"
       ]
      },
      {
       "metadata": {},
       "output_type": "display_data",
       "png": "[encoded data removed]",
       "text": [
        "<matplotlib.figure.Figure at 0x109917d50>"
       ]
      }
     ],
     "prompt_number": 44
    },
    {
     "cell_type": "markdown",
     "metadata": {},
     "source": [
      "##\u9810\u6e2c\u7684"
     ]
    },
    {
     "cell_type": "code",
     "collapsed": false,
     "input": [
      "X1"
     ],
     "language": "python",
     "metadata": {},
     "outputs": [
      {
       "metadata": {},
       "output_type": "pyout",
       "prompt_number": 45,
       "text": [
        "array([[ 16.25 ,   9.   ],\n",
        "       [ 14.75 ,  39.   ],\n",
        "       [ 11.75 ,  12.   ],\n",
        "       [ 18.75 ,  21.   ],\n",
        "       [ 20.   ,  31.   ],\n",
        "       [ 20.   ,  38.   ],\n",
        "       [ 20.   ,  45.   ],\n",
        "       [ 20.   ,  66.   ],\n",
        "       [ 20.   ,  26.   ],\n",
        "       [ 20.   ,  55.   ],\n",
        "       [ 13.875,  35.   ],\n",
        "       [ 20.   ,  55.   ],\n",
        "       [ 20.   ,  58.   ],\n",
        "       [ 20.   ,  51.   ],\n",
        "       [ 20.   ,  69.   ],\n",
        "       [  8.375,  18.   ],\n",
        "       [  0.25 ,   0.   ],\n",
        "       [ 16.   ,  75.   ],\n",
        "       [ 16.625,  51.   ],\n",
        "       [ 17.375,  34.   ],\n",
        "       [  8.75 ,  47.   ],\n",
        "       [ 20.   ,  36.   ],\n",
        "       [ 20.   ,  66.   ],\n",
        "       [ 10.   ,  74.   ],\n",
        "       [ 20.   ,  37.   ],\n",
        "       [ 15.75 ,  28.   ],\n",
        "       [  4.75 ,  36.   ],\n",
        "       [ 15.25 ,  30.   ],\n",
        "       [ 20.   ,  15.   ],\n",
        "       [ 17.375,  25.   ],\n",
        "       [ 14.125,  27.   ],\n",
        "       [ 10.5  ,   0.   ],\n",
        "       [  5.   ,   0.   ],\n",
        "       [ 16.625,  37.   ],\n",
        "       [ 18.125,  21.   ],\n",
        "       [  3.875,   0.   ],\n",
        "       [ 20.   ,  48.   ],\n",
        "       [ 20.   ,  45.   ],\n",
        "       [  4.125,   0.   ],\n",
        "       [ 20.   ,  47.   ],\n",
        "       [  6.125,   0.   ]])"
       ]
      }
     ],
     "prompt_number": 45
    },
    {
     "cell_type": "code",
     "collapsed": false,
     "input": [
      "y2=clf.predict(X1)"
     ],
     "language": "python",
     "metadata": {},
     "outputs": [],
     "prompt_number": 46
    },
    {
     "cell_type": "code",
     "collapsed": false,
     "input": [
      "scatter(X1[:,0],X1[:,1],s=50,c=y2)"
     ],
     "language": "python",
     "metadata": {},
     "outputs": [
      {
       "metadata": {},
       "output_type": "pyout",
       "prompt_number": 47,
       "text": [
        "<matplotlib.collections.PathCollection at 0x109c1ac90>"
       ]
      },
      {
       "metadata": {},
       "output_type": "display_data",
       "png": "[encoded data removed]",
       "text": [
        "<matplotlib.figure.Figure at 0x10969ea50>"
       ]
      }
     ],
     "prompt_number": 47
    },
    {
     "cell_type": "code",
     "collapsed": false,
     "input": [
      "scatter(X1[:,0], X1[:,1],s=50,c=y1)"
     ],
     "language": "python",
     "metadata": {},
     "outputs": [
      {
       "metadata": {},
       "output_type": "pyout",
       "prompt_number": 48,
       "text": [
        "<matplotlib.collections.PathCollection at 0x109e47350>"
       ]
      },
      {
       "metadata": {},
       "output_type": "display_data",
       "png": "[encoded data removed]",
       "text": [
        "<matplotlib.figure.Figure at 0x109463810>"
       ]
      }
     ],
     "prompt_number": 48
    },
    {
     "cell_type": "code",
     "collapsed": false,
     "input": [],
     "language": "python",
     "metadata": {},
     "outputs": []
    }
   ],
   "metadata": {}
  }
 ]
}